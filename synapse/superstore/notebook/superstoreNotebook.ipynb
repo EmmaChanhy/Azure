{
  "cells": [
    {
      "cell_type": "markdown",
      "metadata": {
        "nteract": {
          "transient": {
            "deleting": false
          }
        }
      },
      "source": [
        "## Purpose of the notebook\n",
        "\n",
        "1. Retrieve Parquet files from the silver layer.\n",
        "2. Perform a join operation on both files.\n",
        "3. Save the resulting dataset to the gold layer and a Lake Database."
      ]
    },
    {
      "cell_type": "code",
      "execution_count": null,
      "metadata": {
        "jupyter": {
          "outputs_hidden": false,
          "source_hidden": false
        },
        "nteract": {
          "transient": {
            "deleting": false
          }
        }
      },
      "outputs": [],
      "source": [
        "from pyspark.sql.functions import col"
      ]
    },
    {
      "cell_type": "markdown",
      "metadata": {
        "nteract": {
          "transient": {
            "deleting": false
          }
        }
      },
      "source": [
        "### Parameters"
      ]
    },
    {
      "cell_type": "code",
      "execution_count": null,
      "metadata": {
        "jupyter": {
          "outputs_hidden": false,
          "source_hidden": false
        },
        "nteract": {
          "transient": {
            "deleting": false
          }
        }
      },
      "outputs": [],
      "source": [
        "# Parameters\n",
        "# abfs[s]://file_system_name@account_name.dfs.core.windows.net/file_path\n",
        "silver_folder_path = \"file_system_name@account_name.dfs.core.windows.net/silver\""
      ]
    },
    {
      "cell_type": "markdown",
      "metadata": {
        "nteract": {
          "transient": {
            "deleting": false
          }
        }
      },
      "source": [
        "### 1. Retrieve Parquet files from the silver layer."
      ]
    },
    {
      "cell_type": "code",
      "execution_count": null,
      "metadata": {
        "collapsed": false,
        "jupyter": {
          "outputs_hidden": false,
          "source_hidden": false
        },
        "nteract": {
          "transient": {
            "deleting": false
          }
        }
      },
      "outputs": [],
      "source": [
        "orders_df = spark.read.parquet(f\"{silver_folder_path}/orders\") \n",
        "returns_df = spark.read.parquet(f\"{silver_folder_path}/returns\") "
      ]
    },
    {
      "cell_type": "code",
      "execution_count": null,
      "metadata": {
        "collapsed": false,
        "jupyter": {
          "outputs_hidden": false,
          "source_hidden": false
        },
        "nteract": {
          "transient": {
            "deleting": false
          }
        }
      },
      "outputs": [],
      "source": [
        "# Preview dfs\n",
        "#orders_df.show(10, truncate=False)\n",
        "display(orders_df.limit(10))\n",
        "display(returns_df.limit(10))"
      ]
    },
    {
      "cell_type": "code",
      "execution_count": 21,
      "metadata": {
        "jupyter": {
          "outputs_hidden": false,
          "source_hidden": false
        },
        "nteract": {
          "transient": {
            "deleting": false
          }
        }
      },
      "outputs": [
        {
          "data": {
            "application/vnd.livy.statement-meta+json": {
              "execution_finish_time": "2024-03-03T16:52:29.7449647Z",
              "execution_start_time": "2024-03-03T16:52:29.2266006Z",
              "livy_statement_state": "available",
              "parent_msg_id": "62e69085-e69f-4e7f-9232-d02908783ccc",
              "queued_time": "2024-03-03T16:52:28.5529585Z",
              "session_id": "7",
              "session_start_time": null,
              "spark_jobs": null,
              "spark_pool": "sparkPool",
              "state": "finished",
              "statement_id": 22
            },
            "text/plain": [
              "StatementMeta(sparkPool, 7, 22, Finished, Available)"
            ]
          },
          "metadata": {},
          "output_type": "display_data"
        },
        {
          "name": "stdout",
          "output_type": "stream",
          "text": [
            "orders_df contains: 9994 rows\n",
            "returns_df contains: 296 rows\n"
          ]
        }
      ],
      "source": [
        "# Count rows\n",
        "orders_count = orders_df.count()\n",
        "returns_count = returns_df.count()\n",
        "print(f\"orders_df contains: {orders_count} rows\")\n",
        "print(f\"returns_df contains: {returns_count} rows\")"
      ]
    },
    {
      "cell_type": "markdown",
      "metadata": {
        "nteract": {
          "transient": {
            "deleting": false
          }
        }
      },
      "source": [
        "### 2. Perform a join operation on both files.\n"
      ]
    },
    {
      "cell_type": "code",
      "execution_count": null,
      "metadata": {
        "collapsed": false,
        "jupyter": {
          "outputs_hidden": false,
          "source_hidden": false
        },
        "nteract": {
          "transient": {
            "deleting": false
          }
        }
      },
      "outputs": [],
      "source": [
        "# Join orders_df and returns_df\n",
        "join_df = orders_df.join(returns_df, \"order_id\", \"left\")\n",
        "\n",
        "# Replace null with \"no\" in returned column\n",
        "join_df = join_df.na.fill('no', subset=['returned'])\n",
        "display(join_df.limit(10))"
      ]
    },
    {
      "cell_type": "markdown",
      "metadata": {
        "nteract": {
          "transient": {
            "deleting": false
          }
        }
      },
      "source": [
        "#### Validation after joining"
      ]
    },
    {
      "cell_type": "code",
      "execution_count": 24,
      "metadata": {
        "collapsed": false,
        "jupyter": {
          "outputs_hidden": false,
          "source_hidden": false
        },
        "nteract": {
          "transient": {
            "deleting": false
          }
        }
      },
      "outputs": [
        {
          "data": {
            "application/vnd.livy.statement-meta+json": {
              "execution_finish_time": "2024-03-03T16:52:42.1828589Z",
              "execution_start_time": "2024-03-03T16:52:41.1125082Z",
              "livy_statement_state": "available",
              "parent_msg_id": "5762aae2-81e4-4d00-bfe8-642bfdc0e1f6",
              "queued_time": "2024-03-03T16:52:40.9842702Z",
              "session_id": "7",
              "session_start_time": null,
              "spark_jobs": null,
              "spark_pool": "sparkPool",
              "state": "finished",
              "statement_id": 25
            },
            "text/plain": [
              "StatementMeta(sparkPool, 7, 25, Finished, Available)"
            ]
          },
          "metadata": {},
          "output_type": "display_data"
        },
        {
          "name": "stdout",
          "output_type": "stream",
          "text": [
            "join_df contains: 9994 rows\n",
            "Number of rows match: True\n"
          ]
        }
      ],
      "source": [
        "# Validate join_df number of rows is equal to orders_count\n",
        "join_count_df = join_df.count()\n",
        "print(f\"join_df contains: {join_count_df} rows\")\n",
        "print(f\"Number of rows match:\", join_count_df == orders_count)"
      ]
    },
    {
      "cell_type": "code",
      "execution_count": 25,
      "metadata": {
        "collapsed": false,
        "jupyter": {
          "outputs_hidden": false,
          "source_hidden": false
        },
        "nteract": {
          "transient": {
            "deleting": false
          }
        }
      },
      "outputs": [
        {
          "data": {
            "application/vnd.livy.statement-meta+json": {
              "execution_finish_time": "2024-03-03T16:52:44.1017059Z",
              "execution_start_time": "2024-03-03T16:52:43.04265Z",
              "livy_statement_state": "available",
              "parent_msg_id": "40f85ae5-46b8-4c37-88b7-42f16f54d10f",
              "queued_time": "2024-03-03T16:52:42.8915191Z",
              "session_id": "7",
              "session_start_time": null,
              "spark_jobs": null,
              "spark_pool": "sparkPool",
              "state": "finished",
              "statement_id": 26
            },
            "text/plain": [
              "StatementMeta(sparkPool, 7, 26, Finished, Available)"
            ]
          },
          "metadata": {},
          "output_type": "display_data"
        },
        {
          "name": "stdout",
          "output_type": "stream",
          "text": [
            "+--------+-----+\n",
            "|returned|count|\n",
            "+--------+-----+\n",
            "|     Yes|  800|\n",
            "|      no| 9194|\n",
            "+--------+-----+\n",
            "\n"
          ]
        }
      ],
      "source": [
        "# Group by returned column and count rows\n",
        "join_df.groupBy('returned').count().show()"
      ]
    },
    {
      "cell_type": "code",
      "execution_count": 26,
      "metadata": {
        "collapsed": false,
        "jupyter": {
          "outputs_hidden": false,
          "source_hidden": false
        },
        "nteract": {
          "transient": {
            "deleting": false
          }
        }
      },
      "outputs": [
        {
          "data": {
            "application/vnd.livy.statement-meta+json": {
              "execution_finish_time": "2024-03-03T16:52:45.2994586Z",
              "execution_start_time": "2024-03-03T16:52:44.2375724Z",
              "livy_statement_state": "available",
              "parent_msg_id": "eb8a708c-191e-4f0e-9336-dd4911013483",
              "queued_time": "2024-03-03T16:52:43.5931841Z",
              "session_id": "7",
              "session_start_time": null,
              "spark_jobs": null,
              "spark_pool": "sparkPool",
              "state": "finished",
              "statement_id": 27
            },
            "text/plain": [
              "StatementMeta(sparkPool, 7, 27, Finished, Available)"
            ]
          },
          "metadata": {},
          "output_type": "display_data"
        },
        {
          "name": "stdout",
          "output_type": "stream",
          "text": [
            "Distinct number of returned order_id after joining: 296\n",
            "Distinct number of returned order_id in returns_df: 296\n",
            "Distinct number of returned order_id matach: True\n"
          ]
        }
      ],
      "source": [
        "# Filter returned status is \"Yes\"\n",
        "returned_yes_df = join_df.filter(join_df['returned'] == 'Yes')\n",
        "\n",
        "# Get distinct order_id\n",
        "distinct_returned_yes_order_id = returned_yes_df.select('order_id').distinct()\n",
        "\n",
        "# Number of distinct order_id in distinct_returned_yes_order_id\n",
        "distinct_returned_yes_order_id_count = distinct_returned_yes_order_id.count()\n",
        "print(\"Distinct number of returned order_id after joining:\", distinct_returned_yes_order_id_count)\n",
        "\n",
        "# Number of distinct order_id in returns_df\n",
        "returns_order_id_count = returns_df.count()\n",
        "print(\"Distinct number of returned order_id in returns_df:\", returns_order_id_count)\n",
        "\n",
        "# Compare distinct_returned_yes_order_id_count and returns_order_id_count\n",
        "print(\"Distinct number of returned order_id matach:\", distinct_returned_yes_order_id_count == returns_order_id_count)"
      ]
    },
    {
      "cell_type": "code",
      "execution_count": 27,
      "metadata": {
        "collapsed": false,
        "jupyter": {
          "outputs_hidden": false,
          "source_hidden": false
        },
        "nteract": {
          "transient": {
            "deleting": false
          }
        }
      },
      "outputs": [
        {
          "data": {
            "application/vnd.livy.statement-meta+json": {
              "execution_finish_time": "2024-03-03T16:52:45.5764028Z",
              "execution_start_time": "2024-03-03T16:52:45.4274128Z",
              "livy_statement_state": "available",
              "parent_msg_id": "6c60ccf2-768b-4819-8db8-e3edda0327ab",
              "queued_time": "2024-03-03T16:52:44.1677783Z",
              "session_id": "7",
              "session_start_time": null,
              "spark_jobs": null,
              "spark_pool": "sparkPool",
              "state": "finished",
              "statement_id": 28
            },
            "text/plain": [
              "StatementMeta(sparkPool, 7, 28, Finished, Available)"
            ]
          },
          "metadata": {},
          "output_type": "display_data"
        },
        {
          "name": "stdout",
          "output_type": "stream",
          "text": [
            "Schema before casting:\n",
            "root\n",
            " |-- order_id: string (nullable = true)\n",
            " |-- row_id: string (nullable = true)\n",
            " |-- customer_id: string (nullable = true)\n",
            " |-- customer_name: string (nullable = true)\n",
            " |-- segment: string (nullable = true)\n",
            " |-- country: string (nullable = true)\n",
            " |-- city: string (nullable = true)\n",
            " |-- state: string (nullable = true)\n",
            " |-- region: string (nullable = true)\n",
            " |-- product_id: string (nullable = true)\n",
            " |-- category: string (nullable = true)\n",
            " |-- sub_category: string (nullable = true)\n",
            " |-- product_name: string (nullable = true)\n",
            " |-- sales: string (nullable = true)\n",
            " |-- quantity: string (nullable = true)\n",
            " |-- discount: string (nullable = true)\n",
            " |-- profit: string (nullable = true)\n",
            " |-- returned: string (nullable = false)\n",
            "\n",
            "Schema after casting:\n",
            "root\n",
            " |-- order_id: string (nullable = true)\n",
            " |-- row_id: string (nullable = true)\n",
            " |-- customer_id: string (nullable = true)\n",
            " |-- customer_name: string (nullable = true)\n",
            " |-- segment: string (nullable = true)\n",
            " |-- country: string (nullable = true)\n",
            " |-- city: string (nullable = true)\n",
            " |-- state: string (nullable = true)\n",
            " |-- region: string (nullable = true)\n",
            " |-- product_id: string (nullable = true)\n",
            " |-- category: string (nullable = true)\n",
            " |-- sub_category: string (nullable = true)\n",
            " |-- product_name: string (nullable = true)\n",
            " |-- sales: double (nullable = true)\n",
            " |-- quantity: string (nullable = true)\n",
            " |-- discount: string (nullable = true)\n",
            " |-- profit: double (nullable = true)\n",
            " |-- returned: string (nullable = false)\n",
            "\n"
          ]
        }
      ],
      "source": [
        "# Check schema before exporting result\n",
        "print(\"Schema before casting:\")\n",
        "join_df.printSchema()\n",
        "\n",
        "join_df = join_df.withColumn('profit', col('profit').cast('double'))\n",
        "join_df = join_df.withColumn('sales', col('sales').cast('double'))\n",
        "\n",
        "print(\"Schema after casting:\")\n",
        "join_df.printSchema()"
      ]
    },
    {
      "cell_type": "markdown",
      "metadata": {
        "nteract": {
          "transient": {
            "deleting": false
          }
        }
      },
      "source": [
        "### 3. Save the resulting dataset to the gold layer and a Lake Database."
      ]
    },
    {
      "cell_type": "code",
      "execution_count": null,
      "metadata": {
        "collapsed": false,
        "jupyter": {
          "outputs_hidden": false,
          "source_hidden": false
        },
        "microsoft": {
          "language": "sparksql"
        },
        "nteract": {
          "transient": {
            "deleting": false
          }
        }
      },
      "outputs": [],
      "source": [
        "%%sql\n",
        "CREATE DATABASE IF NOT EXISTS superstore_spark\n",
        "LOCATION \"abfss://file_system_name@account_name.dfs.core.windows.net/gold\""
      ]
    },
    {
      "cell_type": "code",
      "execution_count": null,
      "metadata": {
        "jupyter": {
          "outputs_hidden": false,
          "source_hidden": false
        },
        "nteract": {
          "transient": {
            "deleting": false
          }
        }
      },
      "outputs": [],
      "source": [
        "# Save the result to the gol layer and table\n",
        "join_df.write.mode(\"overwrite\").format(\"parquet\").saveAsTable(\"superstore_spark.orders_records\")"
      ]
    }
  ],
  "metadata": {
    "description": null,
    "kernel_info": {
      "name": "synapse_pyspark"
    },
    "kernelspec": {
      "display_name": "Synapse PySpark",
      "language": "Python",
      "name": "synapse_pyspark"
    },
    "language_info": {
      "name": "python"
    },
    "save_output": true,
    "synapse_widget": {
      "state": {
        "15e6edee-56c4-4bc0-b58d-b28c059a8321": {
          "persist_state": {
            "view": {
              "chartOptions": {
                "aggregationType": "count",
                "categoryFieldKeys": [
                  "0"
                ],
                "chartType": "bar",
                "isStacked": false,
                "seriesFieldKeys": [
                  "0"
                ]
              },
              "tableOptions": {},
              "type": "details"
            }
          },
          "sync_state": {
            "isSummary": false,
            "language": "scala",
            "table": {
              "rows": [
                {
                  "0": "1",
                  "1": "CA-2016-152156",
                  "2": "CG-12520",
                  "3": "Claire Gute",
                  "4": "Consumer",
                  "5": "United States",
                  "6": "Henderson",
                  "7": "Kentucky",
                  "8": "South",
                  "9": "FUR-BO-10001798",
                  "10": "Furniture",
                  "11": "Bookcases",
                  "12": "Bush Somerset Collection Bookcase",
                  "13": "261.96",
                  "14": "2",
                  "15": "0",
                  "16": "41.9136"
                },
                {
                  "0": "2",
                  "1": "CA-2016-152156",
                  "2": "CG-12520",
                  "3": "Claire Gute",
                  "4": "Consumer",
                  "5": "United States",
                  "6": "Henderson",
                  "7": "Kentucky",
                  "8": "South",
                  "9": "FUR-CH-10000454",
                  "10": "Furniture",
                  "11": "Chairs",
                  "12": "Hon Deluxe Fabric Upholstered Stacking Chairs, Rounded Back",
                  "13": "731.94",
                  "14": "3",
                  "15": "0",
                  "16": "219.582"
                },
                {
                  "0": "3",
                  "1": "CA-2016-138688",
                  "2": "DV-13045",
                  "3": "Darrin Van Huff",
                  "4": "Corporate",
                  "5": "United States",
                  "6": "Los Angeles",
                  "7": "California",
                  "8": "West",
                  "9": "OFF-LA-10000240",
                  "10": "Office Supplies",
                  "11": "Labels",
                  "12": "Self-Adhesive Address Labels for Typewriters by Universal",
                  "13": "14.62",
                  "14": "2",
                  "15": "0",
                  "16": "6.8714"
                },
                {
                  "0": "4",
                  "1": "US-2015-108966",
                  "2": "SO-20335",
                  "3": "Sean O'Donnell",
                  "4": "Consumer",
                  "5": "United States",
                  "6": "Fort Lauderdale",
                  "7": "Florida",
                  "8": "South",
                  "9": "FUR-TA-10000577",
                  "10": "Furniture",
                  "11": "Tables",
                  "12": "Bretford CR4500 Series Slim Rectangular Table",
                  "13": "957.5775",
                  "14": "5",
                  "15": "0.45",
                  "16": "-383.031"
                },
                {
                  "0": "5",
                  "1": "US-2015-108966",
                  "2": "SO-20335",
                  "3": "Sean O'Donnell",
                  "4": "Consumer",
                  "5": "United States",
                  "6": "Fort Lauderdale",
                  "7": "Florida",
                  "8": "South",
                  "9": "OFF-ST-10000760",
                  "10": "Office Supplies",
                  "11": "Storage",
                  "12": "Eldon Fold 'N Roll Cart System",
                  "13": "22.368",
                  "14": "2",
                  "15": "0.2",
                  "16": "2.5164"
                },
                {
                  "0": "6",
                  "1": "CA-2014-115812",
                  "2": "BH-11710",
                  "3": "Brosina Hoffman",
                  "4": "Consumer",
                  "5": "United States",
                  "6": "Los Angeles",
                  "7": "California",
                  "8": "West",
                  "9": "FUR-FU-10001487",
                  "10": "Furniture",
                  "11": "Furnishings",
                  "12": "Eldon Expressions Wood and Plastic Desk Accessories, Cherry Wood",
                  "13": "48.86",
                  "14": "7",
                  "15": "0",
                  "16": "14.1694"
                },
                {
                  "0": "7",
                  "1": "CA-2014-115812",
                  "2": "BH-11710",
                  "3": "Brosina Hoffman",
                  "4": "Consumer",
                  "5": "United States",
                  "6": "Los Angeles",
                  "7": "California",
                  "8": "West",
                  "9": "OFF-AR-10002833",
                  "10": "Office Supplies",
                  "11": "Art",
                  "12": "Newell 322",
                  "13": "7.28",
                  "14": "4",
                  "15": "0",
                  "16": "1.9656"
                },
                {
                  "0": "8",
                  "1": "CA-2014-115812",
                  "2": "BH-11710",
                  "3": "Brosina Hoffman",
                  "4": "Consumer",
                  "5": "United States",
                  "6": "Los Angeles",
                  "7": "California",
                  "8": "West",
                  "9": "TEC-PH-10002275",
                  "10": "Technology",
                  "11": "Phones",
                  "12": "Mitel 5320 IP Phone VoIP phone",
                  "13": "907.152",
                  "14": "6",
                  "15": "0.2",
                  "16": "90.7152"
                },
                {
                  "0": "9",
                  "1": "CA-2014-115812",
                  "2": "BH-11710",
                  "3": "Brosina Hoffman",
                  "4": "Consumer",
                  "5": "United States",
                  "6": "Los Angeles",
                  "7": "California",
                  "8": "West",
                  "9": "OFF-BI-10003910",
                  "10": "Office Supplies",
                  "11": "Binders",
                  "12": "DXL Angle-View Binders with Locking Rings by Samsill",
                  "13": "18.504",
                  "14": "3",
                  "15": "0.2",
                  "16": "5.7825"
                },
                {
                  "0": "10",
                  "1": "CA-2014-115812",
                  "2": "BH-11710",
                  "3": "Brosina Hoffman",
                  "4": "Consumer",
                  "5": "United States",
                  "6": "Los Angeles",
                  "7": "California",
                  "8": "West",
                  "9": "OFF-AP-10002892",
                  "10": "Office Supplies",
                  "11": "Appliances",
                  "12": "Belkin F5C206VTEL 6 Outlet Surge",
                  "13": "114.9",
                  "14": "5",
                  "15": "0",
                  "16": "34.47"
                }
              ],
              "schema": [
                {
                  "key": "0",
                  "name": "row_id",
                  "type": "string"
                },
                {
                  "key": "1",
                  "name": "order_id",
                  "type": "string"
                },
                {
                  "key": "2",
                  "name": "customer_id",
                  "type": "string"
                },
                {
                  "key": "3",
                  "name": "customer_name",
                  "type": "string"
                },
                {
                  "key": "4",
                  "name": "segment",
                  "type": "string"
                },
                {
                  "key": "5",
                  "name": "country",
                  "type": "string"
                },
                {
                  "key": "6",
                  "name": "city",
                  "type": "string"
                },
                {
                  "key": "7",
                  "name": "state",
                  "type": "string"
                },
                {
                  "key": "8",
                  "name": "region",
                  "type": "string"
                },
                {
                  "key": "9",
                  "name": "product_id",
                  "type": "string"
                },
                {
                  "key": "10",
                  "name": "category",
                  "type": "string"
                },
                {
                  "key": "11",
                  "name": "sub_category",
                  "type": "string"
                },
                {
                  "key": "12",
                  "name": "product_name",
                  "type": "string"
                },
                {
                  "key": "13",
                  "name": "sales",
                  "type": "string"
                },
                {
                  "key": "14",
                  "name": "quantity",
                  "type": "string"
                },
                {
                  "key": "15",
                  "name": "discount",
                  "type": "string"
                },
                {
                  "key": "16",
                  "name": "profit",
                  "type": "string"
                }
              ],
              "truncated": false
            }
          },
          "type": "Synapse.DataFrame"
        },
        "37bf7016-1a75-4b23-82b5-ff9083917e98": {
          "persist_state": {
            "view": {
              "chartOptions": {
                "aggregationType": "count",
                "categoryFieldKeys": [
                  "0"
                ],
                "chartType": "bar",
                "isStacked": false,
                "seriesFieldKeys": [
                  "0"
                ]
              },
              "tableOptions": {},
              "type": "details"
            }
          },
          "sync_state": {
            "isSummary": false,
            "language": "scala",
            "table": {
              "rows": [
                {
                  "0": "Yes",
                  "1": "CA-2017-153822"
                },
                {
                  "0": "Yes",
                  "1": "CA-2017-129707"
                },
                {
                  "0": "Yes",
                  "1": "CA-2014-152345"
                },
                {
                  "0": "Yes",
                  "1": "CA-2015-156440"
                },
                {
                  "0": "Yes",
                  "1": "US-2017-155999"
                },
                {
                  "0": "Yes",
                  "1": "CA-2014-157924"
                },
                {
                  "0": "Yes",
                  "1": "CA-2017-131807"
                },
                {
                  "0": "Yes",
                  "1": "CA-2016-124527"
                },
                {
                  "0": "Yes",
                  "1": "CA-2017-135692"
                },
                {
                  "0": "Yes",
                  "1": "CA-2014-123225"
                }
              ],
              "schema": [
                {
                  "key": "0",
                  "name": "returned",
                  "type": "string"
                },
                {
                  "key": "1",
                  "name": "order_id",
                  "type": "string"
                }
              ],
              "truncated": false
            }
          },
          "type": "Synapse.DataFrame"
        },
        "537ffe8f-bb85-411d-840f-3f51e66d1c72": {
          "persist_state": {
            "view": {
              "chartOptions": {
                "aggregationType": "count",
                "categoryFieldKeys": [
                  "0"
                ],
                "chartType": "bar",
                "isStacked": false,
                "seriesFieldKeys": [
                  "0"
                ]
              },
              "tableOptions": {},
              "type": "details"
            }
          },
          "sync_state": {
            "isSummary": false,
            "language": "scala",
            "table": {
              "rows": [
                {
                  "0": "CA-2016-152156",
                  "1": "1",
                  "2": "CG-12520",
                  "3": "Claire Gute",
                  "4": "Consumer",
                  "5": "United States",
                  "6": "Henderson",
                  "7": "Kentucky",
                  "8": "South",
                  "9": "FUR-BO-10001798",
                  "10": "Furniture",
                  "11": "Bookcases",
                  "12": "Bush Somerset Collection Bookcase",
                  "13": "261.96",
                  "14": "2",
                  "15": "0",
                  "16": "41.9136",
                  "17": "no"
                },
                {
                  "0": "CA-2016-152156",
                  "1": "2",
                  "2": "CG-12520",
                  "3": "Claire Gute",
                  "4": "Consumer",
                  "5": "United States",
                  "6": "Henderson",
                  "7": "Kentucky",
                  "8": "South",
                  "9": "FUR-CH-10000454",
                  "10": "Furniture",
                  "11": "Chairs",
                  "12": "Hon Deluxe Fabric Upholstered Stacking Chairs, Rounded Back",
                  "13": "731.94",
                  "14": "3",
                  "15": "0",
                  "16": "219.582",
                  "17": "no"
                },
                {
                  "0": "CA-2016-138688",
                  "1": "3",
                  "2": "DV-13045",
                  "3": "Darrin Van Huff",
                  "4": "Corporate",
                  "5": "United States",
                  "6": "Los Angeles",
                  "7": "California",
                  "8": "West",
                  "9": "OFF-LA-10000240",
                  "10": "Office Supplies",
                  "11": "Labels",
                  "12": "Self-Adhesive Address Labels for Typewriters by Universal",
                  "13": "14.62",
                  "14": "2",
                  "15": "0",
                  "16": "6.8714",
                  "17": "no"
                },
                {
                  "0": "US-2015-108966",
                  "1": "4",
                  "2": "SO-20335",
                  "3": "Sean O'Donnell",
                  "4": "Consumer",
                  "5": "United States",
                  "6": "Fort Lauderdale",
                  "7": "Florida",
                  "8": "South",
                  "9": "FUR-TA-10000577",
                  "10": "Furniture",
                  "11": "Tables",
                  "12": "Bretford CR4500 Series Slim Rectangular Table",
                  "13": "957.5775",
                  "14": "5",
                  "15": "0.45",
                  "16": "-383.031",
                  "17": "no"
                },
                {
                  "0": "US-2015-108966",
                  "1": "5",
                  "2": "SO-20335",
                  "3": "Sean O'Donnell",
                  "4": "Consumer",
                  "5": "United States",
                  "6": "Fort Lauderdale",
                  "7": "Florida",
                  "8": "South",
                  "9": "OFF-ST-10000760",
                  "10": "Office Supplies",
                  "11": "Storage",
                  "12": "Eldon Fold 'N Roll Cart System",
                  "13": "22.368",
                  "14": "2",
                  "15": "0.2",
                  "16": "2.5164",
                  "17": "no"
                },
                {
                  "0": "CA-2014-115812",
                  "1": "6",
                  "2": "BH-11710",
                  "3": "Brosina Hoffman",
                  "4": "Consumer",
                  "5": "United States",
                  "6": "Los Angeles",
                  "7": "California",
                  "8": "West",
                  "9": "FUR-FU-10001487",
                  "10": "Furniture",
                  "11": "Furnishings",
                  "12": "Eldon Expressions Wood and Plastic Desk Accessories, Cherry Wood",
                  "13": "48.86",
                  "14": "7",
                  "15": "0",
                  "16": "14.1694",
                  "17": "no"
                },
                {
                  "0": "CA-2014-115812",
                  "1": "7",
                  "2": "BH-11710",
                  "3": "Brosina Hoffman",
                  "4": "Consumer",
                  "5": "United States",
                  "6": "Los Angeles",
                  "7": "California",
                  "8": "West",
                  "9": "OFF-AR-10002833",
                  "10": "Office Supplies",
                  "11": "Art",
                  "12": "Newell 322",
                  "13": "7.28",
                  "14": "4",
                  "15": "0",
                  "16": "1.9656",
                  "17": "no"
                },
                {
                  "0": "CA-2014-115812",
                  "1": "8",
                  "2": "BH-11710",
                  "3": "Brosina Hoffman",
                  "4": "Consumer",
                  "5": "United States",
                  "6": "Los Angeles",
                  "7": "California",
                  "8": "West",
                  "9": "TEC-PH-10002275",
                  "10": "Technology",
                  "11": "Phones",
                  "12": "Mitel 5320 IP Phone VoIP phone",
                  "13": "907.152",
                  "14": "6",
                  "15": "0.2",
                  "16": "90.7152",
                  "17": "no"
                },
                {
                  "0": "CA-2014-115812",
                  "1": "9",
                  "2": "BH-11710",
                  "3": "Brosina Hoffman",
                  "4": "Consumer",
                  "5": "United States",
                  "6": "Los Angeles",
                  "7": "California",
                  "8": "West",
                  "9": "OFF-BI-10003910",
                  "10": "Office Supplies",
                  "11": "Binders",
                  "12": "DXL Angle-View Binders with Locking Rings by Samsill",
                  "13": "18.504",
                  "14": "3",
                  "15": "0.2",
                  "16": "5.7825",
                  "17": "no"
                },
                {
                  "0": "CA-2014-115812",
                  "1": "10",
                  "2": "BH-11710",
                  "3": "Brosina Hoffman",
                  "4": "Consumer",
                  "5": "United States",
                  "6": "Los Angeles",
                  "7": "California",
                  "8": "West",
                  "9": "OFF-AP-10002892",
                  "10": "Office Supplies",
                  "11": "Appliances",
                  "12": "Belkin F5C206VTEL 6 Outlet Surge",
                  "13": "114.9",
                  "14": "5",
                  "15": "0",
                  "16": "34.47",
                  "17": "no"
                }
              ],
              "schema": [
                {
                  "key": "0",
                  "name": "order_id",
                  "type": "string"
                },
                {
                  "key": "1",
                  "name": "row_id",
                  "type": "string"
                },
                {
                  "key": "2",
                  "name": "customer_id",
                  "type": "string"
                },
                {
                  "key": "3",
                  "name": "customer_name",
                  "type": "string"
                },
                {
                  "key": "4",
                  "name": "segment",
                  "type": "string"
                },
                {
                  "key": "5",
                  "name": "country",
                  "type": "string"
                },
                {
                  "key": "6",
                  "name": "city",
                  "type": "string"
                },
                {
                  "key": "7",
                  "name": "state",
                  "type": "string"
                },
                {
                  "key": "8",
                  "name": "region",
                  "type": "string"
                },
                {
                  "key": "9",
                  "name": "product_id",
                  "type": "string"
                },
                {
                  "key": "10",
                  "name": "category",
                  "type": "string"
                },
                {
                  "key": "11",
                  "name": "sub_category",
                  "type": "string"
                },
                {
                  "key": "12",
                  "name": "product_name",
                  "type": "string"
                },
                {
                  "key": "13",
                  "name": "sales",
                  "type": "string"
                },
                {
                  "key": "14",
                  "name": "quantity",
                  "type": "string"
                },
                {
                  "key": "15",
                  "name": "discount",
                  "type": "string"
                },
                {
                  "key": "16",
                  "name": "profit",
                  "type": "string"
                },
                {
                  "key": "17",
                  "name": "returned",
                  "type": "string"
                }
              ],
              "truncated": false
            }
          },
          "type": "Synapse.DataFrame"
        }
      },
      "version": "0.1"
    }
  },
  "nbformat": 4,
  "nbformat_minor": 2
}
